{
 "cells": [
  {
   "cell_type": "code",
   "execution_count": null,
   "id": "6f93904b",
   "metadata": {},
   "outputs": [],
   "source": [
    "import pandas as pd\n",
    "\n",
    "dataset = pd.read_csv('Iris.csv')"
   ]
  },
  {
   "cell_type": "markdown",
   "id": "e960fdce",
   "metadata": {},
   "source": [
    "DATASET SUMMARY!!"
   ]
  },
  {
   "cell_type": "code",
   "execution_count": null,
   "id": "d1f2f9ed",
   "metadata": {},
   "outputs": [],
   "source": [
    "print(dataset.head())\n",
    "print(\"\\n\\nShape is: \", dataset.shape)\n",
    "print(dataset.info())"
   ]
  }
 ],
 "metadata": {
  "kernelspec": {
   "display_name": "Python 3 (ipykernel)",
   "language": "python",
   "name": "python3"
  },
  "language_info": {
   "codemirror_mode": {
    "name": "ipython",
    "version": 3
   },
   "file_extension": ".py",
   "mimetype": "text/x-python",
   "name": "python",
   "nbconvert_exporter": "python",
   "pygments_lexer": "ipython3",
   "version": "3.10.9"
  }
 },
 "nbformat": 4,
 "nbformat_minor": 5
}
